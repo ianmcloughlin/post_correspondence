{
 "cells": [
  {
   "cell_type": "markdown",
   "id": "d220f45c",
   "metadata": {},
   "source": [
    "# Post Corresponence Problem\n",
    "\n",
    "https://en.wikipedia.org/wiki/Post_correspondence_problem\n",
    "\n",
    "***"
   ]
  },
  {
   "cell_type": "code",
   "execution_count": 5,
   "id": "b758b2d2",
   "metadata": {},
   "outputs": [],
   "source": [
    "A = {'a', 'b'}"
   ]
  },
  {
   "cell_type": "code",
   "execution_count": 13,
   "id": "e6e47b3e",
   "metadata": {},
   "outputs": [],
   "source": [
    "L1 = ['a', 'ab', 'bba']"
   ]
  },
  {
   "cell_type": "code",
   "execution_count": 14,
   "id": "c85b62a5",
   "metadata": {},
   "outputs": [],
   "source": [
    "L2 = ['baa', 'aa', 'bb']"
   ]
  },
  {
   "cell_type": "code",
   "execution_count": 6,
   "id": "a619d2a7",
   "metadata": {},
   "outputs": [],
   "source": [
    "S = [2, 1, 2, 0]"
   ]
  },
  {
   "cell_type": "code",
   "execution_count": 7,
   "id": "48957356",
   "metadata": {},
   "outputs": [
    {
     "data": {
      "text/plain": [
       "'bbaabbbaa'"
      ]
     },
     "execution_count": 7,
     "metadata": {},
     "output_type": "execute_result"
    }
   ],
   "source": [
    "# Apply S to L1.\n",
    "'bba' + 'ab' + 'bba' + 'a'"
   ]
  },
  {
   "cell_type": "code",
   "execution_count": 8,
   "id": "487046e2",
   "metadata": {},
   "outputs": [
    {
     "data": {
      "text/plain": [
       "'bbaabbbaa'"
      ]
     },
     "execution_count": 8,
     "metadata": {},
     "output_type": "execute_result"
    }
   ],
   "source": [
    "# Apply S to L2.\n",
    "'bb' + 'aa' + 'bb' + 'baa'"
   ]
  },
  {
   "cell_type": "markdown",
   "id": "563f0b3b",
   "metadata": {},
   "source": [
    "So, `L1` corresponds to `L2`."
   ]
  },
  {
   "cell_type": "code",
   "execution_count": 9,
   "id": "bc178f1e",
   "metadata": {},
   "outputs": [],
   "source": [
    "def apply(S, L):\n",
    "    S_on_L = [L[i] for i in S]\n",
    "    return ''.join(S_on_L)"
   ]
  },
  {
   "cell_type": "code",
   "execution_count": 15,
   "id": "2eb71546",
   "metadata": {},
   "outputs": [
    {
     "data": {
      "text/plain": [
       "'bbaabbbaa'"
      ]
     },
     "execution_count": 15,
     "metadata": {},
     "output_type": "execute_result"
    }
   ],
   "source": [
    "apply(S, L1)"
   ]
  },
  {
   "cell_type": "code",
   "execution_count": 17,
   "id": "b00d9665",
   "metadata": {},
   "outputs": [
    {
     "data": {
      "text/plain": [
       "[2, 1, 2, 0]"
      ]
     },
     "execution_count": 17,
     "metadata": {},
     "output_type": "execute_result"
    }
   ],
   "source": [
    "S"
   ]
  },
  {
   "cell_type": "code",
   "execution_count": 18,
   "id": "b468df2b",
   "metadata": {},
   "outputs": [
    {
     "data": {
      "text/plain": [
       "['a', 'ab', 'bba']"
      ]
     },
     "execution_count": 18,
     "metadata": {},
     "output_type": "execute_result"
    }
   ],
   "source": [
    "L1"
   ]
  },
  {
   "cell_type": "code",
   "execution_count": 16,
   "id": "703924df",
   "metadata": {},
   "outputs": [
    {
     "data": {
      "text/plain": [
       "['bba', 'ab', 'bba', 'a']"
      ]
     },
     "execution_count": 16,
     "metadata": {},
     "output_type": "execute_result"
    }
   ],
   "source": [
    "[L1[i] for i in S]"
   ]
  },
  {
   "cell_type": "code",
   "execution_count": 19,
   "id": "825352f9",
   "metadata": {},
   "outputs": [
    {
     "data": {
      "text/plain": [
       "'oneJOINtwoJOINthree'"
      ]
     },
     "execution_count": 19,
     "metadata": {},
     "output_type": "execute_result"
    }
   ],
   "source": [
    "'JOIN'.join(['one', 'two', 'three'])"
   ]
  },
  {
   "cell_type": "code",
   "execution_count": 20,
   "id": "25f01147",
   "metadata": {},
   "outputs": [
    {
     "data": {
      "text/plain": [
       "'bbaabbbaa'"
      ]
     },
     "execution_count": 20,
     "metadata": {},
     "output_type": "execute_result"
    }
   ],
   "source": [
    "apply(S, L1)"
   ]
  },
  {
   "cell_type": "code",
   "execution_count": 21,
   "id": "d06c6d32",
   "metadata": {},
   "outputs": [
    {
     "data": {
      "text/plain": [
       "'bbaabbbaa'"
      ]
     },
     "execution_count": 21,
     "metadata": {},
     "output_type": "execute_result"
    }
   ],
   "source": [
    "apply(S, L2)"
   ]
  },
  {
   "cell_type": "code",
   "execution_count": 22,
   "id": "48209876",
   "metadata": {},
   "outputs": [
    {
     "data": {
      "text/plain": [
       "True"
      ]
     },
     "execution_count": 22,
     "metadata": {},
     "output_type": "execute_result"
    }
   ],
   "source": [
    "apply(S, L1) == apply(S, L2)"
   ]
  },
  {
   "cell_type": "code",
   "execution_count": 23,
   "id": "7d97dc8d",
   "metadata": {},
   "outputs": [
    {
     "data": {
      "text/plain": [
       "'bbaabbbaabbaabbbaa'"
      ]
     },
     "execution_count": 23,
     "metadata": {},
     "output_type": "execute_result"
    }
   ],
   "source": [
    "apply([2, 1, 2, 0, 2, 1, 2, 0], L1)"
   ]
  },
  {
   "cell_type": "code",
   "execution_count": 24,
   "id": "69fcf69c",
   "metadata": {},
   "outputs": [
    {
     "data": {
      "text/plain": [
       "'bbaabbbaabbaabbbaa'"
      ]
     },
     "execution_count": 24,
     "metadata": {},
     "output_type": "execute_result"
    }
   ],
   "source": [
    "apply([2, 1, 2, 0, 2, 1, 2, 0], L2)"
   ]
  },
  {
   "cell_type": "markdown",
   "id": "4b286cee",
   "metadata": {},
   "source": [
    "<br>\n",
    "\n",
    "## No correspondence\n",
    "\n",
    "***"
   ]
  },
  {
   "cell_type": "code",
   "execution_count": 25,
   "id": "38e3c273",
   "metadata": {},
   "outputs": [],
   "source": [
    "L1 = ['ab', 'bba']"
   ]
  },
  {
   "cell_type": "code",
   "execution_count": 26,
   "id": "780b2115",
   "metadata": {},
   "outputs": [],
   "source": [
    "L2 = ['aa', 'bb']"
   ]
  },
  {
   "cell_type": "code",
   "execution_count": null,
   "id": "818c2e1d",
   "metadata": {},
   "outputs": [],
   "source": [
    "S = ?"
   ]
  },
  {
   "cell_type": "markdown",
   "id": "f622aa21",
   "metadata": {},
   "source": [
    "$$ (L_1,L_2) \\rightarrow \\{True, False\\} \\qquad |L_1| = |L_2| $$"
   ]
  },
  {
   "cell_type": "markdown",
   "id": "ddd1d029",
   "metadata": {},
   "source": [
    "<br>\n",
    "\n",
    "## Bounded PCP\n",
    "\n",
    "***"
   ]
  },
  {
   "cell_type": "markdown",
   "id": "3fef0e5e",
   "metadata": {},
   "source": [
    "$$ |S| \\leq K \\qquad K \\in \\mathbb{N} $$"
   ]
  },
  {
   "cell_type": "code",
   "execution_count": null,
   "id": "f72883f8",
   "metadata": {},
   "outputs": [],
   "source": [
    "def bpcp_solver(L1, L2, K):\n",
    "    if correspond(L1, L2):\n",
    "        return True\n",
    "    else:\n",
    "        return False"
   ]
  }
 ],
 "metadata": {
  "kernelspec": {
   "display_name": "Python 3 (ipykernel)",
   "language": "python",
   "name": "python3"
  },
  "language_info": {
   "codemirror_mode": {
    "name": "ipython",
    "version": 3
   },
   "file_extension": ".py",
   "mimetype": "text/x-python",
   "name": "python",
   "nbconvert_exporter": "python",
   "pygments_lexer": "ipython3",
   "version": "3.9.7"
  }
 },
 "nbformat": 4,
 "nbformat_minor": 5
}
