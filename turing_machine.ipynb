{
 "cells": [
  {
   "cell_type": "markdown",
   "id": "eb3d46ae",
   "metadata": {},
   "source": [
    "# Turing machine\n",
    "\n",
    "***"
   ]
  },
  {
   "cell_type": "markdown",
   "id": "5974d1b6",
   "metadata": {},
   "source": [
    "$\\begin{array}{x{1cm}x{1cm}x{1cm}x{1cm}x{1cm}}\n",
    "    \\textrm{State} & \\textrm{Input} & \\textrm{Write} & \\textrm{Move} & \\textrm{Next} \\\\\n",
    "    \\hline\n",
    "    A & 0  & 0  & R & A \\\\\n",
    "    A & 1  & 1  & R & B \\\\\n",
    "    A & \\sqcup & \\sqcup & L & T \\\\\n",
    "    \\hline\n",
    "    B & 0  & 0  & R & B \\\\\n",
    "    B & 1  & 1  & R & A \\\\\n",
    "    B & \\sqcup & \\sqcup & L & F \\\\\n",
    "    \\hline\n",
    "\\end{array}$"
   ]
  },
  {
   "cell_type": "code",
   "execution_count": 1,
   "id": "ff8f32ec",
   "metadata": {},
   "outputs": [
    {
     "data": {
      "text/plain": [
       "[['A', '0', '0', 'R', 'A'],\n",
       " ['A', '1', '1', 'R', 'B'],\n",
       " ['A', '_', '_', 'L', 'T'],\n",
       " ['B', '0', '0', 'R', 'B'],\n",
       " ['B', '1', '1', 'R', 'A'],\n",
       " ['B', '_', '_', 'L', 'F']]"
      ]
     },
     "execution_count": 1,
     "metadata": {},
     "output_type": "execute_result"
    }
   ],
   "source": [
    "# Represent the state table in some Python data structure.\n",
    "states = [\n",
    "    ['A', '0', '0', 'R', 'A'],\n",
    "    ['A', '1', '1', 'R', 'B'],\n",
    "    ['A', '_', '_', 'L', 'T'],\n",
    "    ['B', '0', '0', 'R', 'B'],\n",
    "    ['B', '1', '1', 'R', 'A'],\n",
    "    ['B', '_', '_', 'L', 'F'],\n",
    "]\n",
    "states"
   ]
  },
  {
   "cell_type": "code",
   "execution_count": 2,
   "id": "39be352b",
   "metadata": {},
   "outputs": [],
   "source": [
    "# Get the Turing machine to take a single step forward.\n",
    "def step(tape, pos, state, states):\n",
    "    # If tape is an empty string, put a blank symbol on it.\n",
    "    if not tape:\n",
    "        tape = ['_'] + tape\n",
    "    # Select the correct row of the table.\n",
    "    for row in states:\n",
    "        if row[0] == state and row[1] == tape[pos]:\n",
    "            break\n",
    "    # Over-write current symbol.\n",
    "    tape[pos] = row[2]\n",
    "    # Move left or right.\n",
    "    if row[3] == 'R':\n",
    "        pos = pos + 1\n",
    "    else:\n",
    "        pos = pos - 1\n",
    "    # Fix the tape if we go off either end.\n",
    "    while pos < 0:\n",
    "        tape = ['_'] + tape\n",
    "        pos = pos + 1\n",
    "    while pos >= len(tape):\n",
    "        tape = tape + ['_']\n",
    "    # Change the state.\n",
    "    state = row[4]\n",
    "    # Return the new configuration.\n",
    "    return tape, pos, state"
   ]
  },
  {
   "cell_type": "code",
   "execution_count": 3,
   "id": "671e11eb",
   "metadata": {},
   "outputs": [],
   "source": [
    "# Run the machine.\n",
    "def run_machine(states, tape):\n",
    "    # Start state is top left in state table.\n",
    "    state = states[0][0]\n",
    "    # Starting position is leftmost cell of the tape.\n",
    "    pos = 0\n",
    "    # Turn the tape into a list.\n",
    "    tape = list(tape)\n",
    "    # Run the machine until we get a terminal state.\n",
    "    while state not in {'T', 'F'}:\n",
    "        # Display the current configuration.\n",
    "        print(state, f'{pos:2}', ''.join(tape))\n",
    "        # Step the machine forward.\n",
    "        tape, pos, state = step(tape, pos, state, states)\n",
    "    # Show the final configuration.\n",
    "    print(state, f'{pos:2}', ''.join(tape))"
   ]
  },
  {
   "cell_type": "code",
   "execution_count": 4,
   "id": "c3ec7d76",
   "metadata": {},
   "outputs": [
    {
     "name": "stdout",
     "output_type": "stream",
     "text": [
      "A  0 111\n",
      "B  1 111\n",
      "A  2 111\n",
      "B  3 111_\n",
      "F  2 111_\n"
     ]
    }
   ],
   "source": [
    "# Run an example.\n",
    "run_machine(states, '111')"
   ]
  },
  {
   "cell_type": "markdown",
   "id": "9ccc50f3",
   "metadata": {},
   "source": [
    "<br>\n",
    "\n",
    "## Halting Problem\n",
    "\n",
    "https://brilliant.org/wiki/halting-problem/\n",
    "\n",
    "***"
   ]
  },
  {
   "cell_type": "markdown",
   "id": "558d8956",
   "metadata": {},
   "source": [
    "Program: $p$.\n",
    "\n",
    "Encoding of $p$ in binary (i.e. $p$ as a string): $\\langle p \\rangle$.\n",
    "\n",
    "String: $x$.\n",
    "\n",
    "$H = \\{\\langle p , x \\rangle \\ | \\  \\textrm{program } p \\textrm{ halts on input } x \\}$\n",
    "\n",
    "$A$: a Turing Machine that accepts all members of $H$ and rejects all non-members of $H$, i.e. $A$ decides $H$.\n",
    "\n",
    "$B$: another Turing machine, takes an encoding $\\langle p \\rangle$ of a program $p$ and runs $A$ on $\\langle p , \\langle p \\rangle \\rangle$, accepts if and only if $A$ rejects, loops infinitely otherwise.\n",
    "\n",
    "What happens when $B$ receives $\\langle B \\rangle$ as input?\n",
    "\n",
    "Then $A$ gets called with $\\langle B, \\langle B \\rangle \\rangle$ as input.\n",
    "\n",
    "Now, $A$ must either accept or reject this input (it's a decider).\n",
    "\n",
    "If $A$ accepts: $B$ on input $\\langle B\\rangle$ halts. However, by $B$'s own definition, if $A$ accepts (which is this case), then $B$ infinitely loops with $\\langle B \\rangle$ as input. This can't happen - it's a contradiction.\n",
    "\n",
    "If $A$ rejects: $B$ on input $\\langle B\\rangle$ does not halt. So, $A$ should reject $\\langle B, \\langle B \\rangle \\rangle$, so then $B$ does halt (by accepting) on input $\\langle B \\rangle$. So, again there's a contradiction.\n",
    "\n",
    "So, the Turing machine $A$ cannot exist."
   ]
  },
  {
   "cell_type": "markdown",
   "id": "e06c7a8f",
   "metadata": {},
   "source": [
    "***\n",
    "## End"
   ]
  }
 ],
 "metadata": {
  "kernelspec": {
   "display_name": "Python 3 (ipykernel)",
   "language": "python",
   "name": "python3"
  },
  "language_info": {
   "codemirror_mode": {
    "name": "ipython",
    "version": 3
   },
   "file_extension": ".py",
   "mimetype": "text/x-python",
   "name": "python",
   "nbconvert_exporter": "python",
   "pygments_lexer": "ipython3",
   "version": "3.9.10"
  }
 },
 "nbformat": 4,
 "nbformat_minor": 5
}
